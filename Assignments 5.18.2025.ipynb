{
 "cells": [
  {
   "cell_type": "markdown",
   "id": "31ccce03",
   "metadata": {},
   "source": [
    "# Exercise 1.1"
   ]
  },
  {
   "cell_type": "code",
   "execution_count": null,
   "id": "b8c6b2d9",
   "metadata": {},
   "outputs": [],
   "source": [
    "print(\"Welcome to the Data Science Class\")"
   ]
  },
  {
   "cell_type": "markdown",
   "id": "a139372c",
   "metadata": {},
   "source": [
    "# Exercise 2.1"
   ]
  },
  {
   "cell_type": "code",
   "execution_count": null,
   "id": "0b7c7611",
   "metadata": {},
   "outputs": [],
   "source": [
    "name = (\"Kim\")\n",
    "favorite_tool = (\"Python\")\n",
    "years_experience = (\"0\")\n",
    "print(f\"Hi, I'm {name}, I love {favorite_tool} and I have {years_experience} years of experience.\")\n"
   ]
  },
  {
   "cell_type": "markdown",
   "id": "5417fb22",
   "metadata": {},
   "source": [
    "# Exercise 2.2"
   ]
  },
  {
   "cell_type": "code",
   "execution_count": null,
   "id": "0f568a37",
   "metadata": {},
   "outputs": [],
   "source": [
    "dataset_name = \"Sales Data\"\n",
    "total_records = 1500\n",
    "missing_values = 45\n",
    "accuracy = 94.5\n",
    "print(f\"Report for {dataset_name}:\\nRecords: {total_records}\\nMissing Values: {missing_values}\\nAccuracy: {accuracy}\")"
   ]
  },
  {
   "cell_type": "markdown",
   "id": "046c9bc5",
   "metadata": {},
   "source": [
    "# Exercise 3.1"
   ]
  },
  {
   "cell_type": "code",
   "execution_count": 15,
   "id": "5ab317cb",
   "metadata": {},
   "outputs": [
    {
     "name": "stdout",
     "output_type": "stream",
     "text": [
      "\n",
      "--- Summary of Collected Data ---\n",
      "Name: kim\n",
      "Age: 50 years old\n",
      "Annual Income: $12,000.00\n",
      "Years of Education: 6\n"
     ]
    }
   ],
   "source": [
    "def collect_user_data():\n",
    "    name = input(\"What is your name? \")\n",
    "    age_input = input(\"How Old Are You? \")\n",
    "    age= int(age_input)\n",
    "    income_input = input(\"What Is Your Annual Income? \")\n",
    "    income = float(income_input)\n",
    "    edu_input = input(\"How Many Years of College Have You Completed? \")\n",
    "    education = int(edu_input)\n",
    "    \n",
    "    print(\"\\n--- Summary of Collected Data ---\")\n",
    "    print(f\"Name: {name}\")\n",
    "    print(f\"Age: {age} years old\")\n",
    "    print(f\"Annual Income: ${income:,.2f}\")\n",
    "    print(f\"Years of Education: {education}\")\n",
    "\n",
    "collect_user_data()"
   ]
  },
  {
   "cell_type": "markdown",
   "id": "f87b3660",
   "metadata": {},
   "source": [
    "# Exercise 3.2"
   ]
  },
  {
   "cell_type": "code",
   "execution_count": 19,
   "id": "22f938dd",
   "metadata": {},
   "outputs": [
    {
     "name": "stdout",
     "output_type": "stream",
     "text": [
      "\n",
      "--- BMI Calculator Results ---\n",
      "Name: kim\n",
      "Weight: 77.11 kg\n",
      "Height: 1.78 m\n",
      "BMI: 24.34\n"
     ]
    }
   ],
   "source": [
    "def calculate_bmi():\n",
    "    name = input(\"What Is Your Name? \")\n",
    "    kg_input = input(\"What is Your Current Weight in KG? \")\n",
    "    weight = float(kg_input)\n",
    "    ht_input = input(\"What is Your Height in Meters? \")\n",
    "    height = float(ht_input)\n",
    "    \n",
    "    bmi = weight / (height ** 2)\n",
    "\n",
    "    print(\"\\n--- BMI Calculator Results ---\")\n",
    "    print(f\"Name: {name}\")\n",
    "    print(f\"Weight: {weight} kg\")\n",
    "    print(f\"Height: {height} m\")\n",
    "    print(f\"BMI: {bmi:.2f}\")\n",
    "calculate_bmi() "
   ]
  }
 ],
 "metadata": {
  "kernelspec": {
   "display_name": "Python 3",
   "language": "python",
   "name": "python3"
  },
  "language_info": {
   "codemirror_mode": {
    "name": "ipython",
    "version": 3
   },
   "file_extension": ".py",
   "mimetype": "text/x-python",
   "name": "python",
   "nbconvert_exporter": "python",
   "pygments_lexer": "ipython3",
   "version": "3.13.3"
  }
 },
 "nbformat": 4,
 "nbformat_minor": 5
}
