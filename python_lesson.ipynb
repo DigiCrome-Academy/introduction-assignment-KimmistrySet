{
 "cells": [
  {
   "cell_type": "markdown",
   "id": "7070e19f",
   "metadata": {},
   "source": [
    "#Assignment One"
   ]
  },
  {
   "cell_type": "code",
   "execution_count": null,
   "id": "ba994521",
   "metadata": {},
   "outputs": [],
   "source": [
    "print (\"Welcome to Python For Data Science\")"
   ]
  },
  {
   "cell_type": "code",
   "execution_count": null,
   "id": "1cf7c190",
   "metadata": {},
   "outputs": [],
   "source": []
  },
  {
   "cell_type": "code",
   "execution_count": null,
   "id": "c29dcc93",
   "metadata": {
    "vscode": {
     "languageId": "plaintext"
    }
   },
   "outputs": [],
   "source": []
  },
  {
   "cell_type": "code",
   "execution_count": null,
   "id": "e4f05522",
   "metadata": {
    "vscode": {
     "languageId": "plaintext"
    }
   },
   "outputs": [],
   "source": []
  }
 ],
 "metadata": {
  "language_info": {
   "name": "python"
  }
 },
 "nbformat": 4,
 "nbformat_minor": 5
}
